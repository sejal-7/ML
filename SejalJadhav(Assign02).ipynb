{
 "cells": [
  {
   "cell_type": "markdown",
   "metadata": {
    "colab_type": "text",
    "id": "HsRDJwKinu3x"
   },
   "source": [
    "## Instructions :\n",
    "- Only Edit  *YOUR CODE HERE*\n",
    "- Do not change the assert statements which test your functions"
   ]
  },
  {
   "cell_type": "code",
   "execution_count": 3,
   "metadata": {
    "colab": {},
    "colab_type": "code",
    "id": "CHma-WJdoxxu"
   },
   "outputs": [],
   "source": [
    "import numpy as np"
   ]
  },
  {
   "cell_type": "markdown",
   "metadata": {
    "colab_type": "text",
    "id": "PSXwKkAylkrs"
   },
   "source": [
    "### Windows and Strides\n",
    "Given a 1d array, and parameters window_len and stride_len, do the following:\n",
    "- Divide the 1d array into smaller arrays of size window_len starting at index 0\n",
    "- move the starting index by step size stride_len each time\n",
    "- Return all windows as a 2d matrix\n",
    "\n",
    "Eg.,\n",
    "Input: <br>\n",
    "arr = [1, 3, 7, 1, 2, 6, 0, 1]  <br>\n",
    "stride_len = 2 , window_len = 4\n",
    "\n",
    "- First window (starting at index 0) should be of len window_len (4) --> [1, 3, 7, 1] <br>\n",
    "- Move by step size stride_len(2) and take next window --> [7, 1, 2, 6] <br>\n",
    "and so on..\n",
    "\n",
    "Output matrix <br>\n",
    "[[1, 3, 7, 1], <br>\n",
    " [7, 1, 2, 6], <br>\n",
    " [2, 6, 0, 1]]\n"
   ]
  },
  {
   "cell_type": "code",
   "execution_count": 130,
   "metadata": {
    "colab": {},
    "colab_type": "code",
    "deletable": false,
    "id": "gAz1pJeN5nQF",
    "nbgrader": {
     "checksum": "9426bef4f8f5bd53f43f7e4945590959",
     "grade": false,
     "grade_id": "cell-01751c442d3d9ac2",
     "locked": false,
     "schema_version": 1,
     "solution": true
    }
   },
   "outputs": [],
   "source": [
    "import numpy as np\n",
    "def gen_strides(a,stride_len,window_len):\n",
    "    nrows = ((a.size-window_len)//stride_len)+1\n",
    "    n = a.strides[0]\n",
    "    final= np.lib.stride_tricks.as_strided(a, shape=(nrows,window_len), strides=(stride_len*n,n))\n",
    "    return np.ndarray.tolist(final)"
   ]
  },
  {
   "cell_type": "code",
   "execution_count": 131,
   "metadata": {
    "colab": {
     "base_uri": "https://localhost:8080/",
     "height": 35
    },
    "colab_type": "code",
    "deletable": false,
    "editable": false,
    "executionInfo": {
     "elapsed": 1003,
     "status": "ok",
     "timestamp": 1559582709614,
     "user": {
      "displayName": "Himanshu Dutta",
      "photoUrl": "https://lh5.googleusercontent.com/-qpx7BO7SccM/AAAAAAAAAAI/AAAAAAAAECc/_hydJebxbFM/s64/photo.jpg",
      "userId": "01739800063044981238"
     },
     "user_tz": -330
    },
    "id": "RXj1uyDp5nQI",
    "nbgrader": {
     "checksum": "95ab5b8d2d18c570906b177a411a3062",
     "grade": true,
     "grade_id": "cell-096efc2d6c969658",
     "locked": true,
     "points": 2,
     "schema_version": 1,
     "solution": false
    },
    "outputId": "2f584eb8-a003-43b5-fc0e-3226bbbd6b05"
   },
   "outputs": [
    {
     "name": "stdout",
     "output_type": "stream",
     "text": [
      "Sample Tests passed 👍\n"
     ]
    }
   ],
   "source": [
    "\"\"\"Test for strides\"\"\"\n",
    "assert(gen_strides(np.array([1, 3, 7, 1, 2, 6, 0, 1]),2,4) == [[1, 3, 7, 1], [7, 1, 2, 6], [2, 6, 0, 1]])\n",
    "\n",
    "print(\"Sample Tests passed\", '\\U0001F44D')"
   ]
  },
  {
   "cell_type": "markdown",
   "metadata": {
    "colab_type": "text",
    "id": "XmhaDkrQpDpi"
   },
   "source": [
    "### Shuffle\n",
    "Given a numpy array of arbitrary dimensions (> 1), shuffle its rows randomly. <br>\n",
    "Hint - You need to shuffle along axis 0"
   ]
  },
  {
   "cell_type": "raw",
   "metadata": {
    "colab": {},
    "colab_type": "code",
    "deletable": false,
    "id": "TgO3UbbK5nQK",
    "nbgrader": {
     "checksum": "b5f7b4eea17c657e64751e7e06978da9",
     "grade": true,
     "grade_id": "cell-9d0cd8b9d15e98b5",
     "locked": false,
     "points": 0,
     "schema_version": 1,
     "solution": true
    }
   },
   "source": []
  },
  {
   "cell_type": "code",
   "execution_count": 44,
   "metadata": {},
   "outputs": [],
   "source": [
    "import numpy as np\n",
    "def shuf(arr):\n",
    "    np.random.shuffle(arr)\n",
    "    return arr\n"
   ]
  },
  {
   "cell_type": "code",
   "execution_count": 45,
   "metadata": {
    "colab": {
     "base_uri": "https://localhost:8080/",
     "height": 35
    },
    "colab_type": "code",
    "deletable": false,
    "editable": false,
    "executionInfo": {
     "elapsed": 678,
     "status": "ok",
     "timestamp": 1559591438859,
     "user": {
      "displayName": "Himanshu Dutta",
      "photoUrl": "https://lh5.googleusercontent.com/-qpx7BO7SccM/AAAAAAAAAAI/AAAAAAAAECc/_hydJebxbFM/s64/photo.jpg",
      "userId": "01739800063044981238"
     },
     "user_tz": -330
    },
    "id": "YSlrfD7E5nQQ",
    "nbgrader": {
     "checksum": "5f0e24f523db479ed2ba0fd49345dc60",
     "grade": true,
     "grade_id": "cell-9c47b636484fca56",
     "locked": true,
     "points": 2,
     "schema_version": 1,
     "solution": false
    },
    "outputId": "71536105-8302-4a12-ba74-47d73cd5410d"
   },
   "outputs": [
    {
     "name": "stdout",
     "output_type": "stream",
     "text": [
      "Sample Tests passed 👍\n"
     ]
    }
   ],
   "source": [
    "\"\"\"Test for shuf\"\"\"\n",
    "assert np.any(shuf(np.array([[1, 2, 3],[4, 5, 6],[7, 8, 9]])) != np.array([[1, 2, 3], [4, 5, 6], [7, 8, 9]]))\n",
    "assert shuf(np.array([[1, 2, 3],[4, 5, 6],[7, 8, 9]])).shape == np.array([[1, 2, 3], [4, 5, 6], [7, 8, 9]]).shape\n",
    "\n",
    "print(\"Sample Tests passed\", '\\U0001F44D')"
   ]
  },
  {
   "cell_type": "markdown",
   "metadata": {
    "colab_type": "text",
    "id": "mwvTEwujsDHd"
   },
   "source": [
    "### Match\n",
    "    Get the positions where corresponding elements (same indices) of array a and array b match <br>\n",
    "    \n",
    "    Eg. Input <br>\n",
    "    a = np.array([1,2,3,2,3,4,3,4,5,6]) <br>\n",
    "    b = np.array([7,2,10,2,7,4,9,4,9,8]) <br>\n",
    "    \n",
    "    Desired Output:\n",
    "\n",
    "    [1, 3, 5, 7])"
   ]
  },
  {
   "cell_type": "code",
   "execution_count": 128,
   "metadata": {
    "colab": {},
    "colab_type": "code",
    "deletable": false,
    "id": "3NqQgNDR5nQS",
    "nbgrader": {
     "checksum": "045d5330212f041b3ab199be6bf170b6",
     "grade": false,
     "grade_id": "cell-b0d486da07272b4e",
     "locked": false,
     "schema_version": 1,
     "solution": true
    }
   },
   "outputs": [],
   "source": [
    "def match(a,b):\n",
    "    res=np.where(a==b)\n",
    "    return np.ndarray.tolist(res[0])"
   ]
  },
  {
   "cell_type": "code",
   "execution_count": 129,
   "metadata": {
    "colab": {
     "base_uri": "https://localhost:8080/",
     "height": 35
    },
    "colab_type": "code",
    "deletable": false,
    "editable": false,
    "executionInfo": {
     "elapsed": 799,
     "status": "ok",
     "timestamp": 1559591442021,
     "user": {
      "displayName": "Himanshu Dutta",
      "photoUrl": "https://lh5.googleusercontent.com/-qpx7BO7SccM/AAAAAAAAAAI/AAAAAAAAECc/_hydJebxbFM/s64/photo.jpg",
      "userId": "01739800063044981238"
     },
     "user_tz": -330
    },
    "id": "JWGJTyGf5nQW",
    "nbgrader": {
     "checksum": "c75a8d49395100617a7d2a8048bdc239",
     "grade": true,
     "grade_id": "cell-cfe91a664ba7f193",
     "locked": true,
     "points": 2,
     "schema_version": 1,
     "solution": false
    },
    "outputId": "2b0344ef-f673-4540-a90c-23622f04cc9a"
   },
   "outputs": [
    {
     "name": "stdout",
     "output_type": "stream",
     "text": [
      "Sample Tests passed 👍\n"
     ]
    }
   ],
   "source": [
    "\"\"\"Test for match\"\"\"\n",
    "assert(match(np.array([1,2,3,2,3,4,3,4,5,6]),np.array([7,2,10,2,7,4,9,4,9,8])) == [1,3,5,7])\n",
    "print(\"Sample Tests passed\", '\\U0001F44D')"
   ]
  },
  {
   "cell_type": "code",
   "execution_count": 134,
   "metadata": {
    "colab": {},
    "colab_type": "code",
    "deletable": false,
    "id": "DYfcCTvc5nQf",
    "nbgrader": {
     "checksum": "9eefbe651b04664fcb347f58234b20c3",
     "grade": false,
     "grade_id": "cell-202ca6eaf85ae4c3",
     "locked": false,
     "schema_version": 1,
     "solution": true
    }
   },
   "outputs": [],
   "source": [
    "import numpy as np\n",
    "def lin_eqn(a,b):\n",
    "    '''\n",
    "    Solve the system of linear equations\n",
    "    of the form ax = b\n",
    "    \n",
    "    Eg. \n",
    "    \n",
    "    Solve the system of linear equation\n",
    "    \n",
    "    x + 2*y = 8\n",
    "    3*x + 4*y = 18\n",
    "    \n",
    "    Given inputs a and b represent coefficients and constant of linear equation respectively\n",
    "    \n",
    "    coefficients: \n",
    "    a = np.array([[1, 2], [3, 4]]) \n",
    "    \n",
    "    constants: \n",
    "    b = np.array([8, 18])\n",
    "    \n",
    "    Desired Output: [2,3]\n",
    "    \n",
    "\n",
    "    '''\n",
    "    return np.linalg.solve(a, b)\n",
    "    \n",
    "           \n",
    "        \n",
    "        "
   ]
  },
  {
   "cell_type": "code",
   "execution_count": 135,
   "metadata": {
    "colab": {
     "base_uri": "https://localhost:8080/",
     "height": 35
    },
    "colab_type": "code",
    "deletable": false,
    "editable": false,
    "executionInfo": {
     "elapsed": 10424,
     "status": "ok",
     "timestamp": 1559591453496,
     "user": {
      "displayName": "Himanshu Dutta",
      "photoUrl": "https://lh5.googleusercontent.com/-qpx7BO7SccM/AAAAAAAAAAI/AAAAAAAAECc/_hydJebxbFM/s64/photo.jpg",
      "userId": "01739800063044981238"
     },
     "user_tz": -330
    },
    "id": "vxGs6DOs5nQl",
    "nbgrader": {
     "checksum": "f557fdc232cb21fd70f21f2cf43e207b",
     "grade": true,
     "grade_id": "cell-648f81e951895cdb",
     "locked": true,
     "points": 2,
     "schema_version": 1,
     "solution": false
    },
    "outputId": "92d6a137-5ed5-4a1e-c22b-7f92f62edcf3"
   },
   "outputs": [
    {
     "name": "stdout",
     "output_type": "stream",
     "text": [
      "Sample Tests passed 👍\n"
     ]
    }
   ],
   "source": [
    "\"\"\"Test for lin_eqn\"\"\"\n",
    "assert lin_eqn(np.array([[1, 2], [3, 4]]),np.array([8, 18])).tolist() == [2.0000000000000004, 2.9999999999999996]\n",
    "\n",
    "print(\"Sample Tests passed\", '\\U0001F44D')\n"
   ]
  },
  {
   "cell_type": "code",
   "execution_count": 136,
   "metadata": {
    "colab": {},
    "colab_type": "code",
    "deletable": false,
    "id": "UhhGEbI15nQx",
    "nbgrader": {
     "checksum": "f542c63a494fe01d05fb12a86e29dbac",
     "grade": true,
     "grade_id": "cell-454bd2de95987a3f",
     "locked": false,
     "points": 0,
     "schema_version": 1,
     "solution": true
    }
   },
   "outputs": [],
   "source": [
    "import numpy as np\n",
    "def inv(arr):\n",
    "    return np.linalg.inv(arr)"
   ]
  },
  {
   "cell_type": "code",
   "execution_count": 137,
   "metadata": {
    "colab": {
     "base_uri": "https://localhost:8080/",
     "height": 35
    },
    "colab_type": "code",
    "deletable": false,
    "editable": false,
    "executionInfo": {
     "elapsed": 2631,
     "status": "ok",
     "timestamp": 1559591457490,
     "user": {
      "displayName": "Himanshu Dutta",
      "photoUrl": "https://lh5.googleusercontent.com/-qpx7BO7SccM/AAAAAAAAAAI/AAAAAAAAECc/_hydJebxbFM/s64/photo.jpg",
      "userId": "01739800063044981238"
     },
     "user_tz": -330
    },
    "id": "vOt8dW3l5nQ3",
    "nbgrader": {
     "checksum": "5d2ebce2beeebdf8535b53a4dd1f44fc",
     "grade": true,
     "grade_id": "cell-43abef740a3b78fb",
     "locked": true,
     "points": 2,
     "schema_version": 1,
     "solution": false
    },
    "outputId": "98559d21-61f1-420e-ec5c-4507326dbf00"
   },
   "outputs": [
    {
     "name": "stdout",
     "output_type": "stream",
     "text": [
      "Sample Tests passed 👍\n"
     ]
    }
   ],
   "source": [
    "\"\"\"Test for inv\"\"\"\n",
    "assert np.all(np.isclose(inv(np.array([[6, 1, 1], [4, -2, 5], [2, 8, 7]])).tolist(), np.array([[0.17647058823529413, -0.0032679738562091526, -0.02287581699346405],[0.05882352941176469, -0.130718954248366, 0.0849673202614379],[-0.1176470588235294, 0.1503267973856209, 0.0522875816993464]])))\n",
    "\n",
    "print(\"Sample Tests passed\", '\\U0001F44D')\n"
   ]
  },
  {
   "cell_type": "markdown",
   "metadata": {
    "colab_type": "text",
    "id": "u1eXcBtYntr7"
   },
   "source": [
    "### rankArray\n",
    "Rank the items in a multidimensional array 'arr'. <br>\n",
    "The rank of an item is its index in the sorted list of all items in 'arr' (starting from 0). <br>\n",
    "          Eg., consider arr = [0, 6, 14, 12, 11] <br>\n",
    "                  arr_sorted = [0, 6, 11, 12, 14] <br>\n",
    "                  So rank of 0 -> 0; 6->1; 11->2, 12->3, 14->4 <br>\n",
    "                  rankArray returns a list where each element is replaced by its rank <br>\n",
    "                  rankArray(arr) -> [0, 1, 4, 3, 2] <br>\n",
    "                  \n",
    "==========================================    \n",
    "Another example, <br>\n",
    "Eg: \n",
    "\n",
    "arr = [[ 9  4 15  0 17], [16 17  8  9  0]] ... (2X5 array) <br>\n",
    "\n",
    "Desired output: <br>\n",
    "[[4 2 6 0 8], [7 9 3 5 1]] ... (2X5 array) <br>\n",
    "\n",
    "Here minimum value in arr is 0 at (0,3), so rank the index of 0 in output matrix as 0 <br>\n",
    "i.e. out[0][3] = 0 <br>\n",
    "Next minimum is also 0 at index (1,4), so rank the index (1,4) in output matrix as 1 and so on...\n",
    "\n",
    "=============================================\n",
    "If two elements repeat; for eg., both a1 = arr[0, 1, 2, 4] and a2 = arr[0, 1, 3, 2] are equal to 1, then rank of the a1 is lower than the rank of a2 because at the first index at which they differ, the index of a1 is lower than that of a2 (similar to lexicographical ordering)\n"
   ]
  },
  {
   "cell_type": "code",
   "execution_count": 41,
   "metadata": {
    "colab": {},
    "colab_type": "code",
    "deletable": false,
    "id": "7d7UQMG8ntr8",
    "nbgrader": {
     "checksum": "41c5b0e7f36d52c22ef162f54c5c5632",
     "grade": false,
     "grade_id": "cell-642dc0e15679ce42",
     "locked": false,
     "schema_version": 1,
     "solution": true
    }
   },
   "outputs": [],
   "source": [
    "def rankArray(arr):  \n",
    "    count=np.zeros(arr.size,dtype=int).tolist()\n",
    "    arrSorted=np.sort(arr.flatten()).tolist()\n",
    "    arr=arr.flatten().tolist()\n",
    "    for i in range(len(arr)):\n",
    "        for j in range(len(arrSorted)):\n",
    "            if arrSorted[j]==arr[i] and count[j]==0:\n",
    "                count[j]+=1\n",
    "                arr[i]=j\n",
    "                break\n",
    "            else:\n",
    "                continue\n",
    "    return np.array(np.array(arr).reshape(2,-1)).tolist()"
   ]
  },
  {
   "cell_type": "code",
   "execution_count": 42,
   "metadata": {
    "colab": {
     "base_uri": "https://localhost:8080/",
     "height": 35
    },
    "colab_type": "code",
    "deletable": false,
    "editable": false,
    "executionInfo": {
     "elapsed": 2713,
     "status": "ok",
     "timestamp": 1559591462603,
     "user": {
      "displayName": "Himanshu Dutta",
      "photoUrl": "https://lh5.googleusercontent.com/-qpx7BO7SccM/AAAAAAAAAAI/AAAAAAAAECc/_hydJebxbFM/s64/photo.jpg",
      "userId": "01739800063044981238"
     },
     "user_tz": -330
    },
    "id": "Cx889HTtntr-",
    "nbgrader": {
     "checksum": "082070df4444481df880ee73446fa0a4",
     "grade": true,
     "grade_id": "cell-ab95f609e0073276",
     "locked": true,
     "points": 2,
     "schema_version": 1,
     "solution": false
    },
    "outputId": "e6e995b9-5233-4218-d26f-3ee626ffc806"
   },
   "outputs": [
    {
     "name": "stdout",
     "output_type": "stream",
     "text": [
      "Sample Tests passed 👍\n"
     ]
    }
   ],
   "source": [
    "\"\"\"Test for rankArray\"\"\"\n",
    "assert(rankArray(np.array([[9, 4, 15, 0, 17], [16,17,8,9,0]])) == np.array([[4,2, 6, 0, 8], [7, 9, 3, 5, 1]]).tolist())\n",
    "print(\"Sample Tests passed\", '\\U0001F44D')"
   ]
  },
  {
   "cell_type": "code",
   "execution_count": null,
   "metadata": {
    "colab": {},
    "colab_type": "code",
    "id": "NX86hiXcWdX2"
   },
   "outputs": [],
   "source": []
  }
 ],
 "metadata": {
  "accelerator": "GPU",
  "colab": {
   "collapsed_sections": [],
   "name": "Himanshu Dutta - PythonBasics_Numpy_f.ipynb",
   "provenance": [],
   "version": "0.3.2"
  },
  "kernelspec": {
   "display_name": "Python 3",
   "language": "python",
   "name": "python3"
  },
  "language_info": {
   "codemirror_mode": {
    "name": "ipython",
    "version": 3
   },
   "file_extension": ".py",
   "mimetype": "text/x-python",
   "name": "python",
   "nbconvert_exporter": "python",
   "pygments_lexer": "ipython3",
   "version": "3.8.5"
  }
 },
 "nbformat": 4,
 "nbformat_minor": 4
}
